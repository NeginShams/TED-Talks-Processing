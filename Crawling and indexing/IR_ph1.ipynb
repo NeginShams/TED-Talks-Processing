{
 "cells": [
  {
   "cell_type": "code",
   "execution_count": null,
   "id": "6e9b0d37",
   "metadata": {},
   "outputs": [],
   "source": [
    "from pyexcel import get_sheet\n",
    "import requests\n",
    "from bs4 import BeautifulSoup\n",
    "from elasticsearch import Elasticsearch"
   ]
  },
  {
   "cell_type": "markdown",
   "id": "62da6852",
   "metadata": {},
   "source": [
    "# define a browser to scrape js page content"
   ]
  },
  {
   "cell_type": "code",
   "execution_count": null,
   "id": "aa72c704",
   "metadata": {},
   "outputs": [],
   "source": [
    "from selenium import webdriver\n",
    "from selenium.webdriver.chrome.service import Service\n",
    "from webdriver_manager.chrome import ChromeDriverManager\n",
    "from selenium.webdriver.common.by import By\n",
    "\n",
    "s=Service(ChromeDriverManager().install())\n",
    "browser = webdriver.Chrome(service=s)"
   ]
  },
  {
   "cell_type": "markdown",
   "id": "7e770ac5",
   "metadata": {},
   "source": [
    "# extract talks transcript and make a dictionary for talks"
   ]
  },
  {
   "cell_type": "code",
   "execution_count": null,
   "id": "9d202f78",
   "metadata": {},
   "outputs": [],
   "source": [
    "ted_list = []\n",
    "\n",
    "path = 'C:/Users/Partiran/Desktop/data.csv'\n",
    "\n",
    "ted_sheet = get_sheet(\n",
    "    file_name=path,\n",
    "    name_columns_by_row=0\n",
    ")\n",
    "\n",
    "for title, author, date, views, likes, link in zip(\n",
    "            ted_sheet.column['title'],\n",
    "            ted_sheet.column['author'],\n",
    "            ted_sheet.column['date'],\n",
    "            ted_sheet.column['views'],\n",
    "            ted_sheet.column['likes'],\n",
    "            ted_sheet.column['link'],\n",
    "        ):\n",
    "            talk_dict = {\n",
    "                'title': title,\n",
    "                'author': author,\n",
    "                'date': date,\n",
    "                'views': views,\n",
    "                'likes': likes,\n",
    "                'link': link,\n",
    "                'transcript': ''\n",
    "            }\n",
    "            # crawling in the pages and scraping data\n",
    "            complete_text = ''\n",
    "            talk_url = link +'/transcript'\n",
    "            browser.get(talk_url)\n",
    "\n",
    "            html = browser.page_source\n",
    "            soup = BeautifulSoup(html, 'lxml')\n",
    "            for i in  soup.findAll(\"span\", {\"class\": \"cursor-pointer\"}):\n",
    "                complete_text+=i.text\n",
    "            \n",
    "            complete_text = complete_text.replace(\"\\n\", \" \")\n",
    "\n",
    "            talk_dict['transcript'] = complete_text\n",
    "            ted_list.append(talk_dict)"
   ]
  },
  {
   "cell_type": "code",
   "execution_count": null,
   "id": "27f070e7",
   "metadata": {},
   "outputs": [],
   "source": [
    "# Create the client instance\n",
    "es = Elasticsearch(\"http://localhost:9200\")"
   ]
  },
  {
   "cell_type": "markdown",
   "id": "ffd1b3c5",
   "metadata": {},
   "source": [
    "# create index"
   ]
  },
  {
   "cell_type": "code",
   "execution_count": null,
   "id": "4596a8d8",
   "metadata": {},
   "outputs": [],
   "source": [
    "es.indices.create(index = 'ted_index', body={\n",
    "    'settings':{\n",
    "        'analysis':{\n",
    "            'analyzer':{\n",
    "                'my_analyzer':{\n",
    "                    'tokenizer':'standard',\n",
    "                    \"filter\" : [ \"lowercase\", \"my_stop\"]\n",
    "                }\n",
    "            },\n",
    "            'filter':{\n",
    "                'my_stop':{\n",
    "                    \"type\": \"stop\",\n",
    "                    \"stopwords\":  \"_english_\"\n",
    "                }\n",
    "            }\n",
    "        }\n",
    "\n",
    "    },\n",
    "    'mappings':{\n",
    "        \"properties\":{\n",
    "            'title':{\n",
    "                \"type\": \"text\",\n",
    "                \"index\": \"true\",\n",
    "                \"store\": 'true'\n",
    "            },\n",
    "            'author':{\n",
    "                \"type\": \"text\",\n",
    "                \"index\": \"true\",\n",
    "                \"store\": 'true'\n",
    "            },\n",
    "            'date':{\n",
    "                \"type\": \"text\",\n",
    "                \"index\": \"true\",\n",
    "                \"store\": 'true'\n",
    "            },\n",
    "            'views':{\n",
    "                \"type\": \"text\",\n",
    "                \"index\": \"true\",\n",
    "                \"store\": 'true'\n",
    "            },\n",
    "            'likes':{\n",
    "                \"type\": \"text\",\n",
    "                \"index\": \"true\",\n",
    "                \"store\": 'true'\n",
    "            },\n",
    "            'link':{\n",
    "                \"type\": \"text\",\n",
    "                \"index\": \"true\",\n",
    "                \"store\": 'true'\n",
    "            },\n",
    "            'transcript':{\n",
    "                \"type\": \"text\",\n",
    "                \"index\": \"true\",\n",
    "                \"store\": 'true',\n",
    "                \"analyzer\": \"my_analyzer\"\n",
    "            },\n",
    "        }\n",
    "    }\n",
    "})"
   ]
  },
  {
   "cell_type": "markdown",
   "id": "3d825f22",
   "metadata": {},
   "source": [
    "# indexing data"
   ]
  },
  {
   "cell_type": "code",
   "execution_count": null,
   "id": "d2de5abf",
   "metadata": {},
   "outputs": [],
   "source": [
    "\n",
    "bulk_data = []\n",
    "\n",
    "i = 0 \n",
    "for each in ted_list:\n",
    "    op_dict = {\n",
    "        \"index\": {\n",
    "            \"_index\": 'ted_index',\n",
    "            \"_id\": i\n",
    "        }\n",
    "    }\n",
    "    i = i+1\n",
    "    data_dict = each\n",
    "        \n",
    "    bulk_data.append(op_dict)\n",
    "    bulk_data.append(data_dict)\n",
    "    \n",
    "res = es.bulk(index = 'ted_index', body = bulk_data)"
   ]
  },
  {
   "cell_type": "code",
   "execution_count": null,
   "id": "d9e54075",
   "metadata": {},
   "outputs": [],
   "source": [
    "import warnings\n",
    "warnings.filterwarnings('ignore')"
   ]
  },
  {
   "cell_type": "code",
   "execution_count": null,
   "id": "1a3c5091",
   "metadata": {},
   "outputs": [],
   "source": []
  },
  {
   "cell_type": "code",
   "execution_count": null,
   "id": "d7c15e3a",
   "metadata": {},
   "outputs": [],
   "source": []
  }
 ],
 "metadata": {
  "kernelspec": {
   "display_name": "Python 3 (ipykernel)",
   "language": "python",
   "name": "python3"
  },
  "language_info": {
   "codemirror_mode": {
    "name": "ipython",
    "version": 3
   },
   "file_extension": ".py",
   "mimetype": "text/x-python",
   "name": "python",
   "nbconvert_exporter": "python",
   "pygments_lexer": "ipython3",
   "version": "3.9.5"
  }
 },
 "nbformat": 4,
 "nbformat_minor": 5
}
